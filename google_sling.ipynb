{
 "cells": [
  {
   "cell_type": "code",
   "execution_count": 1,
   "metadata": {},
   "outputs": [],
   "source": [
    "import sling"
   ]
  },
  {
   "cell_type": "code",
   "execution_count": 2,
   "metadata": {},
   "outputs": [],
   "source": [
    "parser = sling.Parser(\"sempar.flow\")"
   ]
  },
  {
   "cell_type": "code",
   "execution_count": 139,
   "metadata": {},
   "outputs": [],
   "source": [
    "commons = sling.Store()\n",
    "docschema = sling.DocumentSchema(commons)\n",
    "commons.freeze()"
   ]
  },
  {
   "cell_type": "code",
   "execution_count": null,
   "metadata": {},
   "outputs": [],
   "source": [
    "text = 'John hit the ball with a bat.'"
   ]
  },
  {
   "cell_type": "code",
   "execution_count": 38,
   "metadata": {},
   "outputs": [
    {
     "name": "stdout",
     "output_type": "stream",
     "text": [
      "('Text:', 'John hit the ball with a bat.')\n",
      "('mention', 'John')\n",
      "('  evoke', 'Person', 'John')\n",
      "('mention', 'hit')\n",
      "('  evoke', 'hit.01', 'hit')\n",
      "('    role', 'ARG0', 'agent', 'John')\n",
      "('    role', 'ARG1', 'patient', 'ball')\n",
      "('    role', 'ARGM-MNR', 'manner', 'bat')\n",
      "('mention', 'ball')\n",
      "('  evoke', 'Consumer good', 'ball')\n",
      "('mention', 'bat')\n",
      "('  evoke', 'Other', 'bat')\n"
     ]
    }
   ],
   "source": [
    "n_isa = parser.commons['isa']\n",
    "n_name = parser.commons['name']\n",
    "doc = parser.parse(text)\n",
    "\n",
    "print( \"Text:\", doc.phrase(0, len(doc.tokens)))\n",
    "for mention in doc.mentions:\n",
    "    for e in mention.evokes():\n",
    "        if n_name not in e:\n",
    "            e.name = doc.phrase(mention.begin, mention.end)\n",
    "for mention in doc.mentions:\n",
    "    print( \"mention\", doc.phrase(mention.begin, mention.end))\n",
    "    for e in mention.evokes():\n",
    "        print( \"  evoke\", e[n_isa].name, e.name)\n",
    "        for r,v in e:\n",
    "            #print( e)\n",
    "            if 'description' in r:\n",
    "                print( \"    role\", r.name, r.description, v.name)"
   ]
  },
  {
   "cell_type": "code",
   "execution_count": 39,
   "metadata": {},
   "outputs": [
    {
     "name": "stdout",
     "output_type": "stream",
     "text": [
      "{=#1 \n",
      "  :/s/document\n",
      "  /s/document/text: \"John hit the ball with a bat.\"\n",
      "  /s/document/tokens: [{=#2 \n",
      "    :/s/token\n",
      "    /s/token/index: 0\n",
      "    /s/token/text: \"John\"\n",
      "    /s/token/start: 0\n",
      "    /s/token/length: 4\n",
      "    /s/token/break: 0\n",
      "  }, {=#3 \n",
      "    :/s/token\n",
      "    /s/token/index: 1\n",
      "    /s/token/text: \"hit\"\n",
      "    /s/token/start: 5\n",
      "    /s/token/length: 3\n",
      "  }, {=#4 \n",
      "    :/s/token\n",
      "    /s/token/index: 2\n",
      "    /s/token/text: \"the\"\n",
      "    /s/token/start: 9\n",
      "    /s/token/length: 3\n",
      "  }, {=#5 \n",
      "    :/s/token\n",
      "    /s/token/index: 3\n",
      "    /s/token/text: \"ball\"\n",
      "    /s/token/start: 13\n",
      "    /s/token/length: 4\n",
      "  }, {=#6 \n",
      "    :/s/token\n",
      "    /s/token/index: 4\n",
      "    /s/token/text: \"with\"\n",
      "    /s/token/start: 18\n",
      "    /s/token/length: 4\n",
      "  }, {=#7 \n",
      "    :/s/token\n",
      "    /s/token/index: 5\n",
      "    /s/token/text: \"a\"\n",
      "    /s/token/start: 23\n",
      "    /s/token/length: 1\n",
      "  }, {=#8 \n",
      "    :/s/token\n",
      "    /s/token/index: 6\n",
      "    /s/token/text: \"bat\"\n",
      "    /s/token/start: 25\n",
      "    /s/token/length: 3\n",
      "  }, {=#9 \n",
      "    :/s/token\n",
      "    /s/token/index: 7\n",
      "    /s/token/text: \".\"\n",
      "    /s/token/start: 28\n",
      "    /s/token/length: 1\n",
      "    /s/token/break: 0\n",
      "  }]\n",
      "  /s/document/mention: {=#10 \n",
      "    :/s/phrase\n",
      "    /s/phrase/begin: 0\n",
      "    /s/phrase/evokes: {=#11 \n",
      "      :/saft/person\n",
      "    }\n",
      "  }\n",
      "  /s/document/mention: {=#12 \n",
      "    :/s/phrase\n",
      "    /s/phrase/begin: 1\n",
      "    /s/phrase/evokes: {=#13 \n",
      "      :/pb/hit-01\n",
      "      /pb/arg0: #11\n",
      "      /pb/arg1: {=#14 \n",
      "        :/saft/consumer_good\n",
      "      }\n",
      "      /pb/argm-mnr: {=#15 \n",
      "        :/saft/other\n",
      "      }\n",
      "    }\n",
      "  }\n",
      "  /s/document/mention: {=#16 \n",
      "    :/s/phrase\n",
      "    /s/phrase/begin: 3\n",
      "    /s/phrase/evokes: #14\n",
      "  }\n",
      "  /s/document/mention: {=#17 \n",
      "    :/s/phrase\n",
      "    /s/phrase/begin: 6\n",
      "    /s/phrase/evokes: #15\n",
      "  }\n",
      "}\n"
     ]
    }
   ],
   "source": [
    "doc = parser.parse(text)\n",
    "print (doc.frame.data(pretty=True))"
   ]
  },
  {
   "cell_type": "code",
   "execution_count": null,
   "metadata": {},
   "outputs": [],
   "source": [
    "#The /pb/arg0 role points to #11 (evoked by \"John\")\n",
    "#The /pb/arg1 role points to #14 (evoked by \"ball\")\n",
    "#The /pb/argm-mnr role points to #15 (evoked by \"bat\")"
   ]
  },
  {
   "cell_type": "code",
   "execution_count": 40,
   "metadata": {},
   "outputs": [
    {
     "name": "stdout",
     "output_type": "stream",
     "text": [
      "John\n",
      "hit\n",
      "ball\n",
      "bat\n"
     ]
    }
   ],
   "source": [
    "for m in doc.mentions:\n",
    "    print(doc.phrase(m.begin, m.end))"
   ]
  }
 ],
 "metadata": {
  "kernelspec": {
   "display_name": "Python2.7(py27)",
   "language": "python",
   "name": "py27"
  },
  "language_info": {
   "codemirror_mode": {
    "name": "ipython",
    "version": 2
   },
   "file_extension": ".py",
   "mimetype": "text/x-python",
   "name": "python",
   "nbconvert_exporter": "python",
   "pygments_lexer": "ipython2",
   "version": "2.7.13"
  }
 },
 "nbformat": 4,
 "nbformat_minor": 2
}
